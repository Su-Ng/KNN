{
  "nbformat": 4,
  "nbformat_minor": 0,
  "metadata": {
    "colab": {
      "name": "learning_from_history.ipynb",
      "provenance": [],
      "collapsed_sections": [],
      "authorship_tag": "ABX9TyOcnHurNEhWBaupnk+fqY+a",
      "include_colab_link": true
    },
    "kernelspec": {
      "name": "python3",
      "display_name": "Python 3"
    }
  },
  "cells": [
    {
      "cell_type": "markdown",
      "metadata": {
        "id": "view-in-github",
        "colab_type": "text"
      },
      "source": [
        "<a href=\"https://colab.research.google.com/github/Su-Ng/KNN/blob/master/learning_from_history.ipynb\" target=\"_parent\"><img src=\"https://colab.research.google.com/assets/colab-badge.svg\" alt=\"Open In Colab\"/></a>"
      ]
    },
    {
      "cell_type": "markdown",
      "metadata": {
        "id": "A0bd1hGGY40d",
        "colab_type": "text"
      },
      "source": [
        "This notebook demonstrates:\n",
        "\n",
        "How to download a dataset from data.gov.sg\n",
        "How to formulate the dataset into a Machine Learning problem for Forecasting and train a simple Neural Network to predict the next value.\n",
        "How to formulate the same dataset into an ML problem for Pattern Recognition and train a different Neural Network to predict the pattern."
      ]
    },
    {
      "cell_type": "code",
      "metadata": {
        "id": "7aqfUfgfZOjW",
        "colab_type": "code",
        "colab": {}
      },
      "source": [
        "# dataset downloading\n",
        "import io\n",
        "import requests\n",
        "import zipfile\n",
        "\n",
        "# data processing\n",
        "import pandas as pd\n",
        "\n",
        "# visualisation\n",
        "import matplotlib.pyplot as plt\n",
        "from statsmodels.graphics.tsaplots import plot_acf\n",
        "\n",
        "# models\n",
        "from sklearn.model_selection import train_test_split\n",
        "import tensorflow as tf"
      ],
      "execution_count": null,
      "outputs": []
    },
    {
      "cell_type": "code",
      "metadata": {
        "id": "GiwUp_nIYXS0",
        "colab_type": "code",
        "colab": {}
      },
      "source": [
        "# https://data.gov.sg/dataset/gross-domestic-product-in-chained-2015-dollars-year-on-year-growth-rate-quarterly\n",
        "DATASET_URL = 'https://data.gov.sg/dataset/92bcfcdf-cbb2-4497-a855-5aad9cf95cad/download'\n",
        "\n",
        "headers = {\n",
        "    'User-Agent': 'Mozilla/5.0',\n",
        "}\n",
        "response = requests.get(DATASET_URL, headers=headers)\n",
        "z = zipfile.ZipFile(io.BytesIO(response.content))\n",
        "z.extractall()"
      ],
      "execution_count": null,
      "outputs": []
    },
    {
      "cell_type": "code",
      "metadata": {
        "id": "Rhz1UQQWZe-U",
        "colab_type": "code",
        "colab": {
          "base_uri": "https://localhost:8080/",
          "height": 69
        },
        "outputId": "35c3af0e-2507-4d85-9e8c-b1ed9b6d0c12"
      },
      "source": [
        "# get the filename\n",
        "z.printdir()"
      ],
      "execution_count": null,
      "outputs": [
        {
          "output_type": "stream",
          "text": [
            "File Name                                             Modified             Size\n",
            "metadata-gross-domestic-product-in-chained-2015-dollars-year-on-year-growth-rate-quarterly.txt 2020-06-27 05:19:06         2520\n",
            "gross-domestic-product-in-chained-2015-dollars-year-on-year-growth-rate-quarterly.csv 2020-06-27 05:19:06         7647\n"
          ],
          "name": "stdout"
        }
      ]
    },
    {
      "cell_type": "code",
      "metadata": {
        "id": "-ZDApWuNZ2R1",
        "colab_type": "code",
        "colab": {
          "base_uri": "https://localhost:8080/",
          "height": 233
        },
        "outputId": "e5f2381a-870d-4821-addc-6904e1466a80"
      },
      "source": [
        "# Note: update CSV_FILE to the .csv filename from above\n",
        "CSV_FILE = 'gross-domestic-product-in-chained-2015-dollars-year-on-year-growth-rate-quarterly.csv'\n",
        "\n",
        "df = pd.read_csv(CSV_FILE, parse_dates=True, index_col=0)\n",
        "df.head()"
      ],
      "execution_count": null,
      "outputs": [
        {
          "output_type": "execute_result",
          "data": {
            "text/html": [
              "<div>\n",
              "<style scoped>\n",
              "    .dataframe tbody tr th:only-of-type {\n",
              "        vertical-align: middle;\n",
              "    }\n",
              "\n",
              "    .dataframe tbody tr th {\n",
              "        vertical-align: top;\n",
              "    }\n",
              "\n",
              "    .dataframe thead th {\n",
              "        text-align: right;\n",
              "    }\n",
              "</style>\n",
              "<table border=\"1\" class=\"dataframe\">\n",
              "  <thead>\n",
              "    <tr style=\"text-align: right;\">\n",
              "      <th></th>\n",
              "      <th>level_1</th>\n",
              "      <th>value</th>\n",
              "    </tr>\n",
              "    <tr>\n",
              "      <th>quarter</th>\n",
              "      <th></th>\n",
              "      <th></th>\n",
              "    </tr>\n",
              "  </thead>\n",
              "  <tbody>\n",
              "    <tr>\n",
              "      <th>1976-01-01</th>\n",
              "      <td>GDP In Chained (2015) Dollars</td>\n",
              "      <td>8.2</td>\n",
              "    </tr>\n",
              "    <tr>\n",
              "      <th>1976-04-01</th>\n",
              "      <td>GDP In Chained (2015) Dollars</td>\n",
              "      <td>7.4</td>\n",
              "    </tr>\n",
              "    <tr>\n",
              "      <th>1976-07-01</th>\n",
              "      <td>GDP In Chained (2015) Dollars</td>\n",
              "      <td>7.2</td>\n",
              "    </tr>\n",
              "    <tr>\n",
              "      <th>1976-10-01</th>\n",
              "      <td>GDP In Chained (2015) Dollars</td>\n",
              "      <td>7.0</td>\n",
              "    </tr>\n",
              "    <tr>\n",
              "      <th>1977-01-01</th>\n",
              "      <td>GDP In Chained (2015) Dollars</td>\n",
              "      <td>6.2</td>\n",
              "    </tr>\n",
              "  </tbody>\n",
              "</table>\n",
              "</div>"
            ],
            "text/plain": [
              "                                  level_1  value\n",
              "quarter                                         \n",
              "1976-01-01  GDP In Chained (2015) Dollars    8.2\n",
              "1976-04-01  GDP In Chained (2015) Dollars    7.4\n",
              "1976-07-01  GDP In Chained (2015) Dollars    7.2\n",
              "1976-10-01  GDP In Chained (2015) Dollars    7.0\n",
              "1977-01-01  GDP In Chained (2015) Dollars    6.2"
            ]
          },
          "metadata": {
            "tags": []
          },
          "execution_count": 7
        }
      ]
    },
    {
      "cell_type": "markdown",
      "metadata": {
        "id": "PmFfmr_rbAyO",
        "colab_type": "text"
      },
      "source": [
        "# **Data Exploration**\n",
        "\n",
        "\n",
        "1.   Plot the dataset\n",
        "2.   Compute the min, max, etc\n",
        "3.   Plot the autocorrelation\n",
        "\n",
        "\n",
        "\n",
        "\n",
        "\n",
        "\n",
        "\n",
        "\n",
        "\n",
        "Compute the min, max, etc\n",
        "Plot the autocorrelation"
      ]
    },
    {
      "cell_type": "code",
      "metadata": {
        "id": "NXFifHSKarH_",
        "colab_type": "code",
        "colab": {
          "base_uri": "https://localhost:8080/",
          "height": 513
        },
        "outputId": "b4e3be52-3e75-4bd4-a250-cc9c4d2788f1"
      },
      "source": [
        "df['value'].plot(figsize=(15, 8), marker='o', title='Singapore GDP Growth')\n",
        "plt.xlabel('year')\n",
        "plt.ylabel('% change')\n",
        "plt.show()"
      ],
      "execution_count": null,
      "outputs": [
        {
          "output_type": "display_data",
          "data": {
            "image/png": "[encoded data removed]",
            "text/plain": [
              "<Figure size 1080x576 with 1 Axes>"
            ]
          },
          "metadata": {
            "tags": [],
            "needs_background": "light"
          }
        }
      ]
    },
    {
      "cell_type": "code",
      "metadata": {
        "id": "gCC6dLaHdryx",
        "colab_type": "code",
        "colab": {
          "base_uri": "https://localhost:8080/",
          "height": 173
        },
        "outputId": "31ad3ca4-3bbc-4158-d201-eeda5964ee57"
      },
      "source": [
        "df['value'].describe()"
      ],
      "execution_count": null,
      "outputs": [
        {
          "output_type": "execute_result",
          "data": {
            "text/plain": [
              "count    177.000000\n",
              "mean       6.450282\n",
              "std        4.367833\n",
              "min       -7.700000\n",
              "25%        4.200000\n",
              "50%        7.100000\n",
              "75%        9.500000\n",
              "max       18.600000\n",
              "Name: value, dtype: float64"
            ]
          },
          "metadata": {
            "tags": []
          },
          "execution_count": 13
        }
      ]
    },
    {
      "cell_type": "code",
      "metadata": {
        "id": "UXoI0tDtdxru",
        "colab_type": "code",
        "colab": {
          "base_uri": "https://localhost:8080/",
          "height": 513
        },
        "outputId": "cdee8193-0f2c-471d-8ab3-7cf7e4629b57"
      },
      "source": [
        "fig, ax = plt.subplots(figsize=(15, 8))\n",
        "plot_acf(df['value'], ax=ax)\n",
        "ax.set_ylabel('Autocorrelation')\n",
        "ax.set_xlabel('Lag (quarters)')\n",
        "plt.show()"
      ],
      "execution_count": null,
      "outputs": [
        {
          "output_type": "display_data",
          "data": {
            "image/png": "[encoded data removed]",
            "text/plain": [
              "<Figure size 1080x576 with 1 Axes>"
            ]
          },
          "metadata": {
            "tags": [],
            "needs_background": "light"
          }
        }
      ]
    },
    {
      "cell_type": "code",
      "metadata": {
        "id": "1fA2ZsInd5Wg",
        "colab_type": "code",
        "colab": {}
      },
      "source": [
        "window_size = 3 # largest number of lags above the 95% confidence band"
      ],
      "execution_count": null,
      "outputs": []
    },
    {
      "cell_type": "markdown",
      "metadata": {
        "id": "auWTL2VBeQ6e",
        "colab_type": "text"
      },
      "source": [
        "# **Windowing**\n",
        "\n",
        "\n",
        "\n",
        "1.   Create shifted windows of the dataset.\n",
        "2.   Use this to setup our inputs and target\n",
        "\n",
        "\n"
      ]
    },
    {
      "cell_type": "code",
      "metadata": {
        "id": "8eUCBp1FmOd4",
        "colab_type": "code",
        "colab": {
          "base_uri": "https://localhost:8080/",
          "height": 243
        },
        "outputId": "03c63306-71ca-4212-9395-b889a3aaf8a1"
      },
      "source": [
        "# original dataset\n",
        "df['value']"
      ],
      "execution_count": null,
      "outputs": [
        {
          "output_type": "execute_result",
          "data": {
            "text/plain": [
              "quarter\n",
              "1976-01-01    8.2\n",
              "1976-04-01    7.4\n",
              "1976-07-01    7.2\n",
              "1976-10-01    7.0\n",
              "1977-01-01    6.2\n",
              "             ... \n",
              "2019-01-01    1.0\n",
              "2019-04-01    0.2\n",
              "2019-07-01    0.7\n",
              "2019-10-01    1.0\n",
              "2020-01-01   -0.7\n",
              "Name: value, Length: 177, dtype: float64"
            ]
          },
          "metadata": {
            "tags": []
          },
          "execution_count": 16
        }
      ]
    },
    {
      "cell_type": "code",
      "metadata": {
        "id": "tL2d0o3TmSFF",
        "colab_type": "code",
        "colab": {
          "base_uri": "https://localhost:8080/",
          "height": 243
        },
        "outputId": "0a446c6c-b749-42a1-f3d1-2885f879fb65"
      },
      "source": [
        "# shift up 1 step in time using -1\n",
        "# (note the quarter index does not change, we'll fix that later)\n",
        "df['value'].shift(-1)"
      ],
      "execution_count": null,
      "outputs": [
        {
          "output_type": "execute_result",
          "data": {
            "text/plain": [
              "quarter\n",
              "1976-01-01    7.4\n",
              "1976-04-01    7.2\n",
              "1976-07-01    7.0\n",
              "1976-10-01    6.2\n",
              "1977-01-01    7.6\n",
              "             ... \n",
              "2019-01-01    0.2\n",
              "2019-04-01    0.7\n",
              "2019-07-01    1.0\n",
              "2019-10-01   -0.7\n",
              "2020-01-01    NaN\n",
              "Name: value, Length: 177, dtype: float64"
            ]
          },
          "metadata": {
            "tags": []
          },
          "execution_count": 17
        }
      ]
    },
    {
      "cell_type": "code",
      "metadata": {
        "id": "BE5aEPSAmoWd",
        "colab_type": "code",
        "colab": {
          "base_uri": "https://localhost:8080/",
          "height": 243
        },
        "outputId": "4390def6-134d-4b36-9da3-ecc7e5382c31"
      },
      "source": [
        "# shift up in time using -2\n",
        "# (note the quarter index does not change, we'll fix that later)\n",
        "df['value'].shift(-2)"
      ],
      "execution_count": null,
      "outputs": [
        {
          "output_type": "execute_result",
          "data": {
            "text/plain": [
              "quarter\n",
              "1976-01-01    7.2\n",
              "1976-04-01    7.0\n",
              "1976-07-01    6.2\n",
              "1976-10-01    7.6\n",
              "1977-01-01    6.4\n",
              "             ... \n",
              "2019-01-01    0.7\n",
              "2019-04-01    1.0\n",
              "2019-07-01   -0.7\n",
              "2019-10-01    NaN\n",
              "2020-01-01    NaN\n",
              "Name: value, Length: 177, dtype: float64"
            ]
          },
          "metadata": {
            "tags": []
          },
          "execution_count": 18
        }
      ]
    },
    {
      "cell_type": "code",
      "metadata": {
        "id": "kJw2Rd61nN-O",
        "colab_type": "code",
        "colab": {
          "base_uri": "https://localhost:8080/",
          "height": 446
        },
        "outputId": "02652094-8bb6-4f37-d7f7-9c227e70645c"
      },
      "source": [
        "# column-wise concatenation\n",
        "\n",
        "# List comprehension, equivalent to:\n",
        "# new_columns = []\n",
        "# for i in range(window_size):\n",
        "#    new_columns.append(df['value'].shift(-i))\n",
        "new_columns = [df['value'].shift(-i) for i in range(window_size+1)]\n",
        "new_column_names = [f't+{i}' for i in range(window_size+1)]\n",
        "\n",
        "df_windowed = pd.concat(new_columns, axis=1)\n",
        "df_windowed.columns = new_column_names\n",
        "df_windowed"
      ],
      "execution_count": null,
      "outputs": [
        {
          "output_type": "execute_result",
          "data": {
            "text/html": [
              "<div>\n",
              "<style scoped>\n",
              "    .dataframe tbody tr th:only-of-type {\n",
              "        vertical-align: middle;\n",
              "    }\n",
              "\n",
              "    .dataframe tbody tr th {\n",
              "        vertical-align: top;\n",
              "    }\n",
              "\n",
              "    .dataframe thead th {\n",
              "        text-align: right;\n",
              "    }\n",
              "</style>\n",
              "<table border=\"1\" class=\"dataframe\">\n",
              "  <thead>\n",
              "    <tr style=\"text-align: right;\">\n",
              "      <th></th>\n",
              "      <th>t+0</th>\n",
              "      <th>t+1</th>\n",
              "      <th>t+2</th>\n",
              "      <th>t+3</th>\n",
              "    </tr>\n",
              "    <tr>\n",
              "      <th>quarter</th>\n",
              "      <th></th>\n",
              "      <th></th>\n",
              "      <th></th>\n",
              "      <th></th>\n",
              "    </tr>\n",
              "  </thead>\n",
              "  <tbody>\n",
              "    <tr>\n",
              "      <th>1976-01-01</th>\n",
              "      <td>8.2</td>\n",
              "      <td>7.4</td>\n",
              "      <td>7.2</td>\n",
              "      <td>7.0</td>\n",
              "    </tr>\n",
              "    <tr>\n",
              "      <th>1976-04-01</th>\n",
              "      <td>7.4</td>\n",
              "      <td>7.2</td>\n",
              "      <td>7.0</td>\n",
              "      <td>6.2</td>\n",
              "    </tr>\n",
              "    <tr>\n",
              "      <th>1976-07-01</th>\n",
              "      <td>7.2</td>\n",
              "      <td>7.0</td>\n",
              "      <td>6.2</td>\n",
              "      <td>7.6</td>\n",
              "    </tr>\n",
              "    <tr>\n",
              "      <th>1976-10-01</th>\n",
              "      <td>7.0</td>\n",
              "      <td>6.2</td>\n",
              "      <td>7.6</td>\n",
              "      <td>6.4</td>\n",
              "    </tr>\n",
              "    <tr>\n",
              "      <th>1977-01-01</th>\n",
              "      <td>6.2</td>\n",
              "      <td>7.6</td>\n",
              "      <td>6.4</td>\n",
              "      <td>7.2</td>\n",
              "    </tr>\n",
              "    <tr>\n",
              "      <th>...</th>\n",
              "      <td>...</td>\n",
              "      <td>...</td>\n",
              "      <td>...</td>\n",
              "      <td>...</td>\n",
              "    </tr>\n",
              "    <tr>\n",
              "      <th>2019-01-01</th>\n",
              "      <td>1.0</td>\n",
              "      <td>0.2</td>\n",
              "      <td>0.7</td>\n",
              "      <td>1.0</td>\n",
              "    </tr>\n",
              "    <tr>\n",
              "      <th>2019-04-01</th>\n",
              "      <td>0.2</td>\n",
              "      <td>0.7</td>\n",
              "      <td>1.0</td>\n",
              "      <td>-0.7</td>\n",
              "    </tr>\n",
              "    <tr>\n",
              "      <th>2019-07-01</th>\n",
              "      <td>0.7</td>\n",
              "      <td>1.0</td>\n",
              "      <td>-0.7</td>\n",
              "      <td>NaN</td>\n",
              "    </tr>\n",
              "    <tr>\n",
              "      <th>2019-10-01</th>\n",
              "      <td>1.0</td>\n",
              "      <td>-0.7</td>\n",
              "      <td>NaN</td>\n",
              "      <td>NaN</td>\n",
              "    </tr>\n",
              "    <tr>\n",
              "      <th>2020-01-01</th>\n",
              "      <td>-0.7</td>\n",
              "      <td>NaN</td>\n",
              "      <td>NaN</td>\n",
              "      <td>NaN</td>\n",
              "    </tr>\n",
              "  </tbody>\n",
              "</table>\n",
              "<p>177 rows × 4 columns</p>\n",
              "</div>"
            ],
            "text/plain": [
              "            t+0  t+1  t+2  t+3\n",
              "quarter                       \n",
              "1976-01-01  8.2  7.4  7.2  7.0\n",
              "1976-04-01  7.4  7.2  7.0  6.2\n",
              "1976-07-01  7.2  7.0  6.2  7.6\n",
              "1976-10-01  7.0  6.2  7.6  6.4\n",
              "1977-01-01  6.2  7.6  6.4  7.2\n",
              "...         ...  ...  ...  ...\n",
              "2019-01-01  1.0  0.2  0.7  1.0\n",
              "2019-04-01  0.2  0.7  1.0 -0.7\n",
              "2019-07-01  0.7  1.0 -0.7  NaN\n",
              "2019-10-01  1.0 -0.7  NaN  NaN\n",
              "2020-01-01 -0.7  NaN  NaN  NaN\n",
              "\n",
              "[177 rows x 4 columns]"
            ]
          },
          "metadata": {
            "tags": []
          },
          "execution_count": 19
        }
      ]
    },
    {
      "cell_type": "code",
      "metadata": {
        "id": "Lemq-CybnVJ8",
        "colab_type": "code",
        "colab": {
          "base_uri": "https://localhost:8080/",
          "height": 446
        },
        "outputId": "2f0e5a84-ffad-4efb-a32b-95df210f7499"
      },
      "source": [
        "# cleanup the NaN at the bottom of the dataset\n",
        "df_windowed.dropna(inplace=True)\n",
        "df_windowed"
      ],
      "execution_count": null,
      "outputs": [
        {
          "output_type": "execute_result",
          "data": {
            "text/html": [
              "<div>\n",
              "<style scoped>\n",
              "    .dataframe tbody tr th:only-of-type {\n",
              "        vertical-align: middle;\n",
              "    }\n",
              "\n",
              "    .dataframe tbody tr th {\n",
              "        vertical-align: top;\n",
              "    }\n",
              "\n",
              "    .dataframe thead th {\n",
              "        text-align: right;\n",
              "    }\n",
              "</style>\n",
              "<table border=\"1\" class=\"dataframe\">\n",
              "  <thead>\n",
              "    <tr style=\"text-align: right;\">\n",
              "      <th></th>\n",
              "      <th>t+0</th>\n",
              "      <th>t+1</th>\n",
              "      <th>t+2</th>\n",
              "      <th>t+3</th>\n",
              "    </tr>\n",
              "    <tr>\n",
              "      <th>quarter</th>\n",
              "      <th></th>\n",
              "      <th></th>\n",
              "      <th></th>\n",
              "      <th></th>\n",
              "    </tr>\n",
              "  </thead>\n",
              "  <tbody>\n",
              "    <tr>\n",
              "      <th>1976-01-01</th>\n",
              "      <td>8.2</td>\n",
              "      <td>7.4</td>\n",
              "      <td>7.2</td>\n",
              "      <td>7.0</td>\n",
              "    </tr>\n",
              "    <tr>\n",
              "      <th>1976-04-01</th>\n",
              "      <td>7.4</td>\n",
              "      <td>7.2</td>\n",
              "      <td>7.0</td>\n",
              "      <td>6.2</td>\n",
              "    </tr>\n",
              "    <tr>\n",
              "      <th>1976-07-01</th>\n",
              "      <td>7.2</td>\n",
              "      <td>7.0</td>\n",
              "      <td>6.2</td>\n",
              "      <td>7.6</td>\n",
              "    </tr>\n",
              "    <tr>\n",
              "      <th>1976-10-01</th>\n",
              "      <td>7.0</td>\n",
              "      <td>6.2</td>\n",
              "      <td>7.6</td>\n",
              "      <td>6.4</td>\n",
              "    </tr>\n",
              "    <tr>\n",
              "      <th>1977-01-01</th>\n",
              "      <td>6.2</td>\n",
              "      <td>7.6</td>\n",
              "      <td>6.4</td>\n",
              "      <td>7.2</td>\n",
              "    </tr>\n",
              "    <tr>\n",
              "      <th>...</th>\n",
              "      <td>...</td>\n",
              "      <td>...</td>\n",
              "      <td>...</td>\n",
              "      <td>...</td>\n",
              "    </tr>\n",
              "    <tr>\n",
              "      <th>2018-04-01</th>\n",
              "      <td>4.9</td>\n",
              "      <td>3.0</td>\n",
              "      <td>1.1</td>\n",
              "      <td>1.0</td>\n",
              "    </tr>\n",
              "    <tr>\n",
              "      <th>2018-07-01</th>\n",
              "      <td>3.0</td>\n",
              "      <td>1.1</td>\n",
              "      <td>1.0</td>\n",
              "      <td>0.2</td>\n",
              "    </tr>\n",
              "    <tr>\n",
              "      <th>2018-10-01</th>\n",
              "      <td>1.1</td>\n",
              "      <td>1.0</td>\n",
              "      <td>0.2</td>\n",
              "      <td>0.7</td>\n",
              "    </tr>\n",
              "    <tr>\n",
              "      <th>2019-01-01</th>\n",
              "      <td>1.0</td>\n",
              "      <td>0.2</td>\n",
              "      <td>0.7</td>\n",
              "      <td>1.0</td>\n",
              "    </tr>\n",
              "    <tr>\n",
              "      <th>2019-04-01</th>\n",
              "      <td>0.2</td>\n",
              "      <td>0.7</td>\n",
              "      <td>1.0</td>\n",
              "      <td>-0.7</td>\n",
              "    </tr>\n",
              "  </tbody>\n",
              "</table>\n",
              "<p>174 rows × 4 columns</p>\n",
              "</div>"
            ],
            "text/plain": [
              "            t+0  t+1  t+2  t+3\n",
              "quarter                       \n",
              "1976-01-01  8.2  7.4  7.2  7.0\n",
              "1976-04-01  7.4  7.2  7.0  6.2\n",
              "1976-07-01  7.2  7.0  6.2  7.6\n",
              "1976-10-01  7.0  6.2  7.6  6.4\n",
              "1977-01-01  6.2  7.6  6.4  7.2\n",
              "...         ...  ...  ...  ...\n",
              "2018-04-01  4.9  3.0  1.1  1.0\n",
              "2018-07-01  3.0  1.1  1.0  0.2\n",
              "2018-10-01  1.1  1.0  0.2  0.7\n",
              "2019-01-01  1.0  0.2  0.7  1.0\n",
              "2019-04-01  0.2  0.7  1.0 -0.7\n",
              "\n",
              "[174 rows x 4 columns]"
            ]
          },
          "metadata": {
            "tags": []
          },
          "execution_count": 20
        }
      ]
    },
    {
      "cell_type": "code",
      "metadata": {
        "id": "y7hDPXlrncUm",
        "colab_type": "code",
        "colab": {
          "base_uri": "https://localhost:8080/",
          "height": 35
        },
        "outputId": "4c60b930-ec9d-4e54-d152-a8aae741de23"
      },
      "source": [
        "# Formulate our problem\n",
        "\n",
        "df_windowed.columns"
      ],
      "execution_count": null,
      "outputs": [
        {
          "output_type": "execute_result",
          "data": {
            "text/plain": [
              "Index(['t+0', 't+1', 't+2', 't+3'], dtype='object')"
            ]
          },
          "metadata": {
            "tags": []
          },
          "execution_count": 21
        }
      ]
    },
    {
      "cell_type": "code",
      "metadata": {
        "id": "QmPqow63q2i9",
        "colab_type": "code",
        "colab": {
          "base_uri": "https://localhost:8080/",
          "height": 35
        },
        "outputId": "4486c4be-59cd-42a9-ad3c-d5c45755c423"
      },
      "source": [
        "# the target we want to predict (lowercase y is a convention for a vector)\n",
        "y = df_windowed['t+3']\n",
        "\n",
        "# the input data (uppercase X is a convention for a matrix)\n",
        "X = df_windowed.drop(columns=['t+3'])\n",
        "\n",
        "X.shape, y.shape"
      ],
      "execution_count": null,
      "outputs": [
        {
          "output_type": "execute_result",
          "data": {
            "text/plain": [
              "((174, 3), (174,))"
            ]
          },
          "metadata": {
            "tags": []
          },
          "execution_count": 22
        }
      ]
    },
    {
      "cell_type": "markdown",
      "metadata": {
        "id": "LCOXcaAjrPlv",
        "colab_type": "text"
      },
      "source": [
        "# **Neural Network**\n",
        "1.  Create a neural network using Tensorflow-Keras\n",
        "2.  Split the dataset into training and test sets\n",
        "3.  Train the neural network using the training set.\n",
        "4.  Evaluate the neural network using the test set."
      ]
    },
    {
      "cell_type": "code",
      "metadata": {
        "id": "mbeJwUTjq_9I",
        "colab_type": "code",
        "colab": {
          "base_uri": "https://localhost:8080/",
          "height": 225
        },
        "outputId": "2bc392c6-1c69-4ed2-8470-1889259eb5e7"
      },
      "source": [
        "# https://www.tensorflow.org/guide/keras/overview\n",
        "# Create a simple Neural Network with 2 Dense Layers\n",
        "from tensorflow.keras import layers\n",
        "\n",
        "model = tf.keras.Sequential()\n",
        "model.add(layers.Dense(16, input_shape=(3,), activation='relu'))\n",
        "model.add(layers.Dense(1))\n",
        "model.summary()"
      ],
      "execution_count": null,
      "outputs": [
        {
          "output_type": "stream",
          "text": [
            "Model: \"sequential\"\n",
            "_________________________________________________________________\n",
            "Layer (type)                 Output Shape              Param #   \n",
            "=================================================================\n",
            "dense (Dense)                (None, 16)                64        \n",
            "_________________________________________________________________\n",
            "dense_1 (Dense)              (None, 1)                 17        \n",
            "=================================================================\n",
            "Total params: 81\n",
            "Trainable params: 81\n",
            "Non-trainable params: 0\n",
            "_________________________________________________________________\n"
          ],
          "name": "stdout"
        }
      ]
    },
    {
      "cell_type": "code",
      "metadata": {
        "id": "5BgortT8vMv-",
        "colab_type": "code",
        "colab": {
          "base_uri": "https://localhost:8080/",
          "height": 35
        },
        "outputId": "517e82a6-a00b-448b-96e8-402eaa64984b"
      },
      "source": [
        "X_train, X_test, y_train, y_test = train_test_split(X, y)\n",
        "\n",
        "X_train.shape, X_test.shape, y_train.shape, y_test.shape"
      ],
      "execution_count": null,
      "outputs": [
        {
          "output_type": "execute_result",
          "data": {
            "text/plain": [
              "((130, 3), (44, 3), (130,), (44,))"
            ]
          },
          "metadata": {
            "tags": []
          },
          "execution_count": 26
        }
      ]
    },
    {
      "cell_type": "code",
      "metadata": {
        "id": "xWZZu91jvsba",
        "colab_type": "code",
        "colab": {
          "base_uri": "https://localhost:8080/",
          "height": 446
        },
        "outputId": "cdbacdc9-5454-40f4-d5ee-3aa586f9c70c"
      },
      "source": [
        "# Note that the data is shuffled in time\n",
        "# This is okay because we already preserved the history!\n",
        "#\n",
        "# If this bothers you, you can use train_test_split(X, y, shuffle=False)\n",
        "# It does affect how the Neural Network is initialised, but since we\n",
        "# will be go through the dataset multiple rounds, it doesn't really matter.\n",
        "#\n",
        "# It may matter if your dataset is huge, because the Neural Network training\n",
        "# gets more chances see the older data. \n",
        "X_train"
      ],
      "execution_count": null,
      "outputs": [
        {
          "output_type": "execute_result",
          "data": {
            "text/html": [
              "<div>\n",
              "<style scoped>\n",
              "    .dataframe tbody tr th:only-of-type {\n",
              "        vertical-align: middle;\n",
              "    }\n",
              "\n",
              "    .dataframe tbody tr th {\n",
              "        vertical-align: top;\n",
              "    }\n",
              "\n",
              "    .dataframe thead th {\n",
              "        text-align: right;\n",
              "    }\n",
              "</style>\n",
              "<table border=\"1\" class=\"dataframe\">\n",
              "  <thead>\n",
              "    <tr style=\"text-align: right;\">\n",
              "      <th></th>\n",
              "      <th>t+0</th>\n",
              "      <th>t+1</th>\n",
              "      <th>t+2</th>\n",
              "    </tr>\n",
              "    <tr>\n",
              "      <th>quarter</th>\n",
              "      <th></th>\n",
              "      <th></th>\n",
              "      <th></th>\n",
              "    </tr>\n",
              "  </thead>\n",
              "  <tbody>\n",
              "    <tr>\n",
              "      <th>1999-07-01</th>\n",
              "      <td>8.0</td>\n",
              "      <td>7.1</td>\n",
              "      <td>8.8</td>\n",
              "    </tr>\n",
              "    <tr>\n",
              "      <th>1987-10-01</th>\n",
              "      <td>12.5</td>\n",
              "      <td>11.1</td>\n",
              "      <td>12.0</td>\n",
              "    </tr>\n",
              "    <tr>\n",
              "      <th>1987-04-01</th>\n",
              "      <td>10.2</td>\n",
              "      <td>12.3</td>\n",
              "      <td>12.5</td>\n",
              "    </tr>\n",
              "    <tr>\n",
              "      <th>2018-01-01</th>\n",
              "      <td>4.8</td>\n",
              "      <td>4.9</td>\n",
              "      <td>3.0</td>\n",
              "    </tr>\n",
              "    <tr>\n",
              "      <th>1993-07-01</th>\n",
              "      <td>11.5</td>\n",
              "      <td>12.9</td>\n",
              "      <td>13.5</td>\n",
              "    </tr>\n",
              "    <tr>\n",
              "      <th>...</th>\n",
              "      <td>...</td>\n",
              "      <td>...</td>\n",
              "      <td>...</td>\n",
              "    </tr>\n",
              "    <tr>\n",
              "      <th>2012-04-01</th>\n",
              "      <td>6.2</td>\n",
              "      <td>2.0</td>\n",
              "      <td>4.8</td>\n",
              "    </tr>\n",
              "    <tr>\n",
              "      <th>2004-01-01</th>\n",
              "      <td>10.3</td>\n",
              "      <td>13.4</td>\n",
              "      <td>8.3</td>\n",
              "    </tr>\n",
              "    <tr>\n",
              "      <th>2005-04-01</th>\n",
              "      <td>6.2</td>\n",
              "      <td>8.6</td>\n",
              "      <td>9.4</td>\n",
              "    </tr>\n",
              "    <tr>\n",
              "      <th>1986-04-01</th>\n",
              "      <td>0.1</td>\n",
              "      <td>2.9</td>\n",
              "      <td>6.5</td>\n",
              "    </tr>\n",
              "    <tr>\n",
              "      <th>2014-04-01</th>\n",
              "      <td>3.3</td>\n",
              "      <td>3.6</td>\n",
              "      <td>4.5</td>\n",
              "    </tr>\n",
              "  </tbody>\n",
              "</table>\n",
              "<p>130 rows × 3 columns</p>\n",
              "</div>"
            ],
            "text/plain": [
              "             t+0   t+1   t+2\n",
              "quarter                     \n",
              "1999-07-01   8.0   7.1   8.8\n",
              "1987-10-01  12.5  11.1  12.0\n",
              "1987-04-01  10.2  12.3  12.5\n",
              "2018-01-01   4.8   4.9   3.0\n",
              "1993-07-01  11.5  12.9  13.5\n",
              "...          ...   ...   ...\n",
              "2012-04-01   6.2   2.0   4.8\n",
              "2004-01-01  10.3  13.4   8.3\n",
              "2005-04-01   6.2   8.6   9.4\n",
              "1986-04-01   0.1   2.9   6.5\n",
              "2014-04-01   3.3   3.6   4.5\n",
              "\n",
              "[130 rows x 3 columns]"
            ]
          },
          "metadata": {
            "tags": []
          },
          "execution_count": 27
        }
      ]
    },
    {
      "cell_type": "code",
      "metadata": {
        "id": "-lqbVerbwA-L",
        "colab_type": "code",
        "colab": {
          "base_uri": "https://localhost:8080/",
          "height": 243
        },
        "outputId": "912098d5-c8aa-4388-ec4a-cf0f1cf44f09"
      },
      "source": [
        "# What matters is that each row of X_train and each row of y_train\n",
        "# are for the same quarter!\n",
        "y_train"
      ],
      "execution_count": null,
      "outputs": [
        {
          "output_type": "execute_result",
          "data": {
            "text/plain": [
              "quarter\n",
              "1999-07-01     8.1\n",
              "1987-10-01    11.2\n",
              "1987-04-01    11.1\n",
              "2018-01-01     1.1\n",
              "1993-07-01    10.3\n",
              "              ... \n",
              "2012-04-01     3.4\n",
              "2004-01-01     7.7\n",
              "2005-04-01    10.4\n",
              "1986-04-01     8.1\n",
              "2014-04-01     3.0\n",
              "Name: t+3, Length: 130, dtype: float64"
            ]
          },
          "metadata": {
            "tags": []
          },
          "execution_count": 28
        }
      ]
    },
    {
      "cell_type": "code",
      "metadata": {
        "id": "uLKcSFXiwDe7",
        "colab_type": "code",
        "colab": {
          "base_uri": "https://localhost:8080/",
          "height": 1000
        },
        "outputId": "260b388a-0ffb-4753-d7d4-0c9585831021"
      },
      "source": [
        "# train!\n",
        "# Note: if you have more data, you can split the dataset 3 ways:\n",
        "#  train, validation, test\n",
        "# And then use the validation set (e.g. X_val, y_val) in validation_data\n",
        "\n",
        "model.compile(optimizer='Adam', loss='mse', metrics=['mae'])\n",
        "history = model.fit(X_train, y_train, batch_size=16, epochs=50,\n",
        "                    validation_data=(X_test, y_test))"
      ],
      "execution_count": null,
      "outputs": [
        {
          "output_type": "stream",
          "text": [
            "Epoch 1/50\n",
            "9/9 [==============================] - 0s 22ms/step - loss: 177.9045 - mae: 11.8963 - val_loss: 144.4692 - val_mae: 10.6782\n",
            "Epoch 2/50\n",
            "9/9 [==============================] - 0s 7ms/step - loss: 157.7847 - mae: 11.1866 - val_loss: 128.5039 - val_mae: 10.0500\n",
            "Epoch 3/50\n",
            "9/9 [==============================] - 0s 7ms/step - loss: 140.3627 - mae: 10.5400 - val_loss: 114.2395 - val_mae: 9.4532\n",
            "Epoch 4/50\n",
            "9/9 [==============================] - 0s 7ms/step - loss: 124.1424 - mae: 9.9021 - val_loss: 101.5944 - val_mae: 8.8909\n",
            "Epoch 5/50\n",
            "9/9 [==============================] - 0s 7ms/step - loss: 109.6064 - mae: 9.2976 - val_loss: 90.0088 - val_mae: 8.3415\n",
            "Epoch 6/50\n",
            "9/9 [==============================] - 0s 7ms/step - loss: 96.7372 - mae: 8.7130 - val_loss: 79.2792 - val_mae: 7.7943\n",
            "Epoch 7/50\n",
            "9/9 [==============================] - 0s 6ms/step - loss: 84.7345 - mae: 8.1380 - val_loss: 69.6058 - val_mae: 7.2621\n",
            "Epoch 8/50\n",
            "9/9 [==============================] - 0s 7ms/step - loss: 74.2604 - mae: 7.5952 - val_loss: 61.0101 - val_mae: 6.7741\n",
            "Epoch 9/50\n",
            "9/9 [==============================] - 0s 7ms/step - loss: 65.0019 - mae: 7.0935 - val_loss: 53.7079 - val_mae: 6.3244\n",
            "Epoch 10/50\n",
            "9/9 [==============================] - 0s 7ms/step - loss: 56.6248 - mae: 6.6122 - val_loss: 47.1769 - val_mae: 5.8895\n",
            "Epoch 11/50\n",
            "9/9 [==============================] - 0s 7ms/step - loss: 49.3880 - mae: 6.1524 - val_loss: 40.7582 - val_mae: 5.4328\n",
            "Epoch 12/50\n",
            "9/9 [==============================] - 0s 8ms/step - loss: 42.2072 - mae: 5.6722 - val_loss: 35.1856 - val_mae: 4.9959\n",
            "Epoch 13/50\n",
            "9/9 [==============================] - 0s 7ms/step - loss: 36.1773 - mae: 5.2235 - val_loss: 30.2327 - val_mae: 4.5642\n",
            "Epoch 14/50\n",
            "9/9 [==============================] - 0s 8ms/step - loss: 31.0441 - mae: 4.8008 - val_loss: 25.8571 - val_mae: 4.1539\n",
            "Epoch 15/50\n",
            "9/9 [==============================] - 0s 7ms/step - loss: 26.7532 - mae: 4.3996 - val_loss: 21.9979 - val_mae: 3.7633\n",
            "Epoch 16/50\n",
            "9/9 [==============================] - 0s 7ms/step - loss: 22.7680 - mae: 4.0065 - val_loss: 19.0759 - val_mae: 3.4321\n",
            "Epoch 17/50\n",
            "9/9 [==============================] - 0s 7ms/step - loss: 19.9143 - mae: 3.6954 - val_loss: 16.4907 - val_mae: 3.1135\n",
            "Epoch 18/50\n",
            "9/9 [==============================] - 0s 7ms/step - loss: 17.5150 - mae: 3.3700 - val_loss: 14.4957 - val_mae: 2.8447\n",
            "Epoch 19/50\n",
            "9/9 [==============================] - 0s 7ms/step - loss: 15.6372 - mae: 3.0901 - val_loss: 13.0610 - val_mae: 2.6182\n",
            "Epoch 20/50\n",
            "9/9 [==============================] - 0s 7ms/step - loss: 14.2824 - mae: 2.9102 - val_loss: 12.0434 - val_mae: 2.4310\n",
            "Epoch 21/50\n",
            "9/9 [==============================] - 0s 7ms/step - loss: 13.4158 - mae: 2.7840 - val_loss: 11.3104 - val_mae: 2.2857\n",
            "Epoch 22/50\n",
            "9/9 [==============================] - 0s 6ms/step - loss: 12.6944 - mae: 2.6782 - val_loss: 10.7757 - val_mae: 2.1957\n",
            "Epoch 23/50\n",
            "9/9 [==============================] - 0s 7ms/step - loss: 12.1949 - mae: 2.6073 - val_loss: 10.3492 - val_mae: 2.1308\n",
            "Epoch 24/50\n",
            "9/9 [==============================] - 0s 8ms/step - loss: 11.7514 - mae: 2.5405 - val_loss: 9.9704 - val_mae: 2.0705\n",
            "Epoch 25/50\n",
            "9/9 [==============================] - 0s 7ms/step - loss: 11.3088 - mae: 2.4782 - val_loss: 9.6854 - val_mae: 2.0324\n",
            "Epoch 26/50\n",
            "9/9 [==============================] - 0s 7ms/step - loss: 10.9477 - mae: 2.4284 - val_loss: 9.4104 - val_mae: 1.9931\n",
            "Epoch 27/50\n",
            "9/9 [==============================] - 0s 7ms/step - loss: 10.5561 - mae: 2.3797 - val_loss: 9.1739 - val_mae: 1.9566\n",
            "Epoch 28/50\n",
            "9/9 [==============================] - 0s 7ms/step - loss: 10.2020 - mae: 2.3380 - val_loss: 9.0360 - val_mae: 1.9388\n",
            "Epoch 29/50\n",
            "9/9 [==============================] - 0s 7ms/step - loss: 9.8882 - mae: 2.3086 - val_loss: 8.8594 - val_mae: 1.9123\n",
            "Epoch 30/50\n",
            "9/9 [==============================] - 0s 7ms/step - loss: 9.5811 - mae: 2.2717 - val_loss: 8.6285 - val_mae: 1.8751\n",
            "Epoch 31/50\n",
            "9/9 [==============================] - 0s 7ms/step - loss: 9.2823 - mae: 2.2427 - val_loss: 8.4685 - val_mae: 1.8651\n",
            "Epoch 32/50\n",
            "9/9 [==============================] - 0s 7ms/step - loss: 9.0657 - mae: 2.2170 - val_loss: 8.3062 - val_mae: 1.8496\n",
            "Epoch 33/50\n",
            "9/9 [==============================] - 0s 9ms/step - loss: 8.8364 - mae: 2.1919 - val_loss: 8.1170 - val_mae: 1.8246\n",
            "Epoch 34/50\n",
            "9/9 [==============================] - 0s 9ms/step - loss: 8.5923 - mae: 2.1627 - val_loss: 7.9603 - val_mae: 1.8037\n",
            "Epoch 35/50\n",
            "9/9 [==============================] - 0s 9ms/step - loss: 8.4207 - mae: 2.1381 - val_loss: 7.7640 - val_mae: 1.7812\n",
            "Epoch 36/50\n",
            "9/9 [==============================] - 0s 8ms/step - loss: 8.2642 - mae: 2.1110 - val_loss: 7.6187 - val_mae: 1.7640\n",
            "Epoch 37/50\n",
            "9/9 [==============================] - 0s 9ms/step - loss: 8.0771 - mae: 2.0888 - val_loss: 7.5389 - val_mae: 1.7578\n",
            "Epoch 38/50\n",
            "9/9 [==============================] - 0s 7ms/step - loss: 7.9432 - mae: 2.0749 - val_loss: 7.4844 - val_mae: 1.7585\n",
            "Epoch 39/50\n",
            "9/9 [==============================] - 0s 8ms/step - loss: 7.8352 - mae: 2.0741 - val_loss: 7.4838 - val_mae: 1.7697\n",
            "Epoch 40/50\n",
            "9/9 [==============================] - 0s 7ms/step - loss: 7.6820 - mae: 2.0565 - val_loss: 7.3910 - val_mae: 1.7615\n",
            "Epoch 41/50\n",
            "9/9 [==============================] - 0s 10ms/step - loss: 7.5527 - mae: 2.0358 - val_loss: 7.2868 - val_mae: 1.7564\n",
            "Epoch 42/50\n",
            "9/9 [==============================] - 0s 8ms/step - loss: 7.4424 - mae: 2.0233 - val_loss: 7.2148 - val_mae: 1.7534\n",
            "Epoch 43/50\n",
            "9/9 [==============================] - 0s 8ms/step - loss: 7.3304 - mae: 2.0105 - val_loss: 7.1597 - val_mae: 1.7489\n",
            "Epoch 44/50\n",
            "9/9 [==============================] - 0s 8ms/step - loss: 7.2417 - mae: 1.9983 - val_loss: 7.0847 - val_mae: 1.7420\n",
            "Epoch 45/50\n",
            "9/9 [==============================] - 0s 8ms/step - loss: 7.1296 - mae: 1.9884 - val_loss: 7.0751 - val_mae: 1.7392\n",
            "Epoch 46/50\n",
            "9/9 [==============================] - 0s 8ms/step - loss: 7.0467 - mae: 1.9793 - val_loss: 7.0019 - val_mae: 1.7340\n",
            "Epoch 47/50\n",
            "9/9 [==============================] - 0s 8ms/step - loss: 7.0227 - mae: 1.9771 - val_loss: 6.8872 - val_mae: 1.7247\n",
            "Epoch 48/50\n",
            "9/9 [==============================] - 0s 8ms/step - loss: 6.8995 - mae: 1.9581 - val_loss: 6.8897 - val_mae: 1.7169\n",
            "Epoch 49/50\n",
            "9/9 [==============================] - 0s 9ms/step - loss: 6.9549 - mae: 1.9811 - val_loss: 6.9421 - val_mae: 1.7136\n",
            "Epoch 50/50\n",
            "9/9 [==============================] - 0s 8ms/step - loss: 6.7913 - mae: 1.9593 - val_loss: 6.7896 - val_mae: 1.7064\n"
          ],
          "name": "stdout"
        }
      ]
    },
    {
      "cell_type": "code",
      "metadata": {
        "id": "fQZQbiBbwJfi",
        "colab_type": "code",
        "colab": {
          "base_uri": "https://localhost:8080/",
          "height": 295
        },
        "outputId": "03452831-c913-4abb-a268-988ad01790ed"
      },
      "source": [
        "# Check for overfitting, which is when val_loss starts to go up but\n",
        "# loss stays decreases or stays constant.\n",
        "\n",
        "plt.plot(history.history['loss'], label='loss')\n",
        "plt.plot(history.history['val_loss'], label='val_loss')\n",
        "plt.title('Learning curve')\n",
        "plt.ylabel('Loss')\n",
        "plt.xlabel('Epochs')\n",
        "plt.legend()\n",
        "plt.show()"
      ],
      "execution_count": null,
      "outputs": [
        {
          "output_type": "display_data",
          "data": {
            "image/png": "[encoded data removed]",
            "text/plain": [
              "<Figure size 432x288 with 1 Axes>"
            ]
          },
          "metadata": {
            "tags": [],
            "needs_background": "light"
          }
        }
      ]
    },
    {
      "cell_type": "code",
      "metadata": {
        "id": "NEqF-w-FwOmD",
        "colab_type": "code",
        "colab": {}
      },
      "source": [
        "model.save('model.h5')"
      ],
      "execution_count": null,
      "outputs": []
    },
    {
      "cell_type": "code",
      "metadata": {
        "id": "ouqXJz8IwTkI",
        "colab_type": "code",
        "colab": {
          "base_uri": "https://localhost:8080/",
          "height": 446
        },
        "outputId": "4bfe46b4-fc3e-402c-dfb7-4daca388a9df"
      },
      "source": [
        "# Get a prediction from our model for our data and plot it against the truth\n",
        "\n",
        "y_pred = model.predict(X)\n",
        "\n",
        "df_pred = pd.DataFrame(index=X.index, data={'predictions': y_pred.ravel()})\n",
        "df_pred"
      ],
      "execution_count": null,
      "outputs": [
        {
          "output_type": "execute_result",
          "data": {
            "text/html": [
              "<div>\n",
              "<style scoped>\n",
              "    .dataframe tbody tr th:only-of-type {\n",
              "        vertical-align: middle;\n",
              "    }\n",
              "\n",
              "    .dataframe tbody tr th {\n",
              "        vertical-align: top;\n",
              "    }\n",
              "\n",
              "    .dataframe thead th {\n",
              "        text-align: right;\n",
              "    }\n",
              "</style>\n",
              "<table border=\"1\" class=\"dataframe\">\n",
              "  <thead>\n",
              "    <tr style=\"text-align: right;\">\n",
              "      <th></th>\n",
              "      <th>predictions</th>\n",
              "    </tr>\n",
              "    <tr>\n",
              "      <th>quarter</th>\n",
              "      <th></th>\n",
              "    </tr>\n",
              "  </thead>\n",
              "  <tbody>\n",
              "    <tr>\n",
              "      <th>1976-01-01</th>\n",
              "      <td>6.781579</td>\n",
              "    </tr>\n",
              "    <tr>\n",
              "      <th>1976-04-01</th>\n",
              "      <td>6.668001</td>\n",
              "    </tr>\n",
              "    <tr>\n",
              "      <th>1976-07-01</th>\n",
              "      <td>6.051785</td>\n",
              "    </tr>\n",
              "    <tr>\n",
              "      <th>1976-10-01</th>\n",
              "      <td>6.851614</td>\n",
              "    </tr>\n",
              "    <tr>\n",
              "      <th>1977-01-01</th>\n",
              "      <td>6.434645</td>\n",
              "    </tr>\n",
              "    <tr>\n",
              "      <th>...</th>\n",
              "      <td>...</td>\n",
              "    </tr>\n",
              "    <tr>\n",
              "      <th>2018-04-01</th>\n",
              "      <td>0.890202</td>\n",
              "    </tr>\n",
              "    <tr>\n",
              "      <th>2018-07-01</th>\n",
              "      <td>0.587487</td>\n",
              "    </tr>\n",
              "    <tr>\n",
              "      <th>2018-10-01</th>\n",
              "      <td>0.500615</td>\n",
              "    </tr>\n",
              "    <tr>\n",
              "      <th>2019-01-01</th>\n",
              "      <td>0.638979</td>\n",
              "    </tr>\n",
              "    <tr>\n",
              "      <th>2019-04-01</th>\n",
              "      <td>1.037564</td>\n",
              "    </tr>\n",
              "  </tbody>\n",
              "</table>\n",
              "<p>174 rows × 1 columns</p>\n",
              "</div>"
            ],
            "text/plain": [
              "            predictions\n",
              "quarter                \n",
              "1976-01-01     6.781579\n",
              "1976-04-01     6.668001\n",
              "1976-07-01     6.051785\n",
              "1976-10-01     6.851614\n",
              "1977-01-01     6.434645\n",
              "...                 ...\n",
              "2018-04-01     0.890202\n",
              "2018-07-01     0.587487\n",
              "2018-10-01     0.500615\n",
              "2019-01-01     0.638979\n",
              "2019-04-01     1.037564\n",
              "\n",
              "[174 rows x 1 columns]"
            ]
          },
          "metadata": {
            "tags": []
          },
          "execution_count": 32
        }
      ]
    },
    {
      "cell_type": "code",
      "metadata": {
        "id": "6TS8eTZuwxld",
        "colab_type": "code",
        "colab": {
          "base_uri": "https://localhost:8080/",
          "height": 483
        },
        "outputId": "da579ba1-52af-4333-f586-5a36be83af11"
      },
      "source": [
        "fig, ax = plt.subplots(figsize=(15, 8))\n",
        "ax.plot(y, label='Truth', marker='o')\n",
        "ax.plot(df_pred, label='Neural Network Predictions', marker='x')\n",
        "ax.legend()\n",
        "plt.show()"
      ],
      "execution_count": null,
      "outputs": [
        {
          "output_type": "display_data",
          "data": {
            "image/png": "[encoded data removed]",
            "text/plain": [
              "<Figure size 1080x576 with 1 Axes>"
            ]
          },
          "metadata": {
            "tags": [],
            "needs_background": "light"
          }
        }
      ]
    },
    {
      "cell_type": "markdown",
      "metadata": {
        "id": "9c0-n2QbY3jP",
        "colab_type": "text"
      },
      "source": [
        ""
      ]
    }
  ]
}